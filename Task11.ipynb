{
 "cells": [
  {
   "cell_type": "code",
   "execution_count": null,
   "metadata": {},
   "outputs": [],
   "source": [
    "#Task11\n",
    "#Ask 2 numbers from users and store it in num1 and num2\n",
    "#Ask user to press 1 for addition,2 for subtraction,3 for multiplication and 4 for division\n",
    "#create 4 seperate functions for each operation (i.e. addition,subtraction,multiplication and division)\n",
    "#based on number given by user,call that perticular function and print the output"
   ]
  },
  {
   "cell_type": "code",
   "execution_count": 18,
   "metadata": {},
   "outputs": [
    {
     "name": "stdout",
     "output_type": "stream",
     "text": [
      "Enter the first no : 10\n",
      "Enter the second no : 5\n",
      "Press 1 for sum, 2 for substraction, 3 for multiplication, 4 for division2\n",
      "Sum of 10 and 5 is 5\n"
     ]
    }
   ],
   "source": [
    "num1=input(\"Enter the first no : \")\n",
    "num1=int(num1)\n",
    "num2=input(\"Enter the second no : \")\n",
    "num2=int(num2)\n",
    "def add(num1,num2):\n",
    "    sum1=num1+num2\n",
    "    return(sum1)\n",
    "def sub(num1,num2):\n",
    "    sub1=num1-num2\n",
    "    return(sub1)\n",
    "def mul(num1,num2):\n",
    "    mul1=num1*num2\n",
    "    return(mul1)\n",
    "def div(num1,num2):\n",
    "    div1=num1/num2\n",
    "    return(div1)\n",
    "oper=input(\"Press 1 for sum, 2 for substraction, 3 for multiplication, 4 for division\")\n",
    "oper=int(oper)\n",
    "if oper==1:\n",
    "    print(\"Sum of {} and {} is {}\".format(num1,num2,add(num1,num2)))\n",
    "elif oper==2:\n",
    "    print(\"Sum of {} and {} is {}\".format(num1,num2,sub(num1,num2)))\n",
    "elif oper==3:\n",
    "    print(\"Product of {} and {} is {}\".format(num1,num2,mul(num1,num2)))\n",
    "elif oper==4:\n",
    "    print(\"Division of {} and {} is {}\".format(num1,num2,div(num1,num2)))\n",
    "else:\n",
    "    print(\"Enter the correct operator\")"
   ]
  },
  {
   "cell_type": "code",
   "execution_count": null,
   "metadata": {},
   "outputs": [],
   "source": []
  }
 ],
 "metadata": {
  "kernelspec": {
   "display_name": "Python 3",
   "language": "python",
   "name": "python3"
  },
  "language_info": {
   "codemirror_mode": {
    "name": "ipython",
    "version": 3
   },
   "file_extension": ".py",
   "mimetype": "text/x-python",
   "name": "python",
   "nbconvert_exporter": "python",
   "pygments_lexer": "ipython3",
   "version": "3.8.3"
  }
 },
 "nbformat": 4,
 "nbformat_minor": 4
}
